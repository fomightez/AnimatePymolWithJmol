{
 "cells": [
  {
   "cell_type": "markdown",
   "metadata": {},
   "source": [
    "# Animate PyMOL session files With Jmol"
   ]
  },
  {
   "cell_type": "markdown",
   "metadata": {},
   "source": [
    "Click on and drag a PyMOL session file (`.pse` file) from your computer into the file browser window to the left of this text.  \n",
    "When the file is correctly dragged into the pane, a dashed,gray outline will appear and you can release your mouse button.\n",
    "\n",
    "**TO TEST: DON'T DRAG ANYTHING IN AND JUST RUN THE NEXT CELL. IT WILL USE THE SESSION FILE ALREADY PRESENT IF YOU DON'T UPLOAD ONE. If you are trying to trouble-shoot and want the demo file included, change its name by right-clicking on the `1d66_demo.pse` demo file in the file browser pane to the left and select `Rename`.**\n",
    "\n",
    "Repeat the drag-and-drop steps for as many session files as you'd like processed.\n",
    "\n",
    "Run the following code cell to process the session file(s) to make the animation.  \n",
    "There are three ways to run a cell if you are not familiar with these notbeooks.\n",
    "\n",
    "- You can run the cell by clicking on it and pressing the `run` button, shaped like a triangle heading towards the right, that is on the utility bar above this notebook.\n",
    "\n",
    "- Click on the cell to run to select it, and then under `Run` menu above, choose `Run Selected Cells`\n",
    "\n",
    "- Click on the cell to run to select it, and type `Shift-Enter`. Which is holding down the shift key wille pressing the enter key.\n",
    "\n",
    "\n",
    "(CURRENTLY THIS IS ONLY GOING TO THE EQUIVALENT OF `rock-y-60deg.spt`.)"
   ]
  },
  {
   "cell_type": "code",
   "execution_count": 1,
   "metadata": {},
   "outputs": [
    {
     "name": "stdout",
     "output_type": "stream",
     "text": [
      "Writing 's' (str) to file 'process.script'.\n"
     ]
    },
    {
     "name": "stderr",
     "output_type": "stream",
     "text": [
      "\n",
      "Processing demo file '1d66_demo.pse'."
     ]
    }
   ],
   "source": [
    "import os\n",
    "import sys\n",
    "import fnmatch\n",
    "session_file_extension = \".pse\"\n",
    "session_files= []\n",
    "for file in os.listdir('.'):\n",
    "    if fnmatch.fnmatch(file, '*'+session_file_extension):\n",
    "        session_files.append(file)\n",
    "# Disregard the demo file if any other session files added\n",
    "demo_file_name = \"1d66_demo.pse\"\n",
    "if len(session_files) > 1 and demo_file_name in session_files:\n",
    "    session_files.remove(demo_file_name)\n",
    "#Report if demo is being used or how many session files being processed\n",
    "if len(session_files) == 1 and session_files[0] == demo_file_name:\n",
    "    sys.stderr.write(\"\\nProcessing demo file '{}'\"\n",
    "    \".\".format(demo_file_name))\n",
    "else:\n",
    "    sys.stderr.write(\"\\nProcessing {} files: {}\"\n",
    "    \".\".format(len(session_files),repr(session_files)))\n",
    "for x in session_files:\n",
    "    # make script to run\n",
    "    script = \"process.spt\"\n",
    "    s = f'load \"{x}\";capture \"{x.split(\".pse\")[0]}_rocking-y-60.gif\" rock y 30'\n",
    "    %store s > {script}\n",
    "    !xvfb-run java -ea -jar /srv/conda/envs/notebook/share/jmol/Jmol.jar -g600x500 -s \"{script}\" -n"
   ]
  },
  {
   "cell_type": "code",
   "execution_count": 2,
   "metadata": {},
   "outputs": [
    {
     "data": {
      "text/plain": [
       "'1d66_demo.pse'"
      ]
     },
     "execution_count": 2,
     "metadata": {},
     "output_type": "execute_result"
    }
   ],
   "source": [
    "x"
   ]
  },
  {
   "cell_type": "code",
   "execution_count": 4,
   "metadata": {},
   "outputs": [
    {
     "name": "stdout",
     "output_type": "stream",
     "text": [
      "Collecting xvfbwrapper\n",
      "  Downloading https://files.pythonhosted.org/packages/57/b6/4920eabda9b49630dea58745e79f9919aba6408d460afe758bf6e9b21a04/xvfbwrapper-0.2.9.tar.gz\n",
      "Building wheels for collected packages: xvfbwrapper\n",
      "  Building wheel for xvfbwrapper (setup.py) ... \u001b[?25ldone\n",
      "\u001b[?25h  Created wheel for xvfbwrapper: filename=xvfbwrapper-0.2.9-cp37-none-any.whl size=5010 sha256=de1244d61da25fc5fed6d77f4579500a1e7d4858317770940f690c845ca2eb76\n",
      "  Stored in directory: /home/jovyan/.cache/pip/wheels/10/f2/61/cacfaf84b352c223761ea8d19616e3b5ac5c27364da72863f0\n",
      "Successfully built xvfbwrapper\n",
      "Installing collected packages: xvfbwrapper\n",
      "Successfully installed xvfbwrapper-0.2.9\n",
      "Note: you may need to restart the kernel to use updated packages.\n"
     ]
    }
   ],
   "source": [
    "%pip install xvfbwrapper"
   ]
  },
  {
   "cell_type": "code",
   "execution_count": 9,
   "metadata": {},
   "outputs": [
    {
     "name": "stdout",
     "output_type": "stream",
     "text": [
      "splash_image=jar:file:/srv/conda/envs/notebook/share/jmol/Jmol.jar!/org/openscience/jmol/app/images/Jmol_splash.jpg\n",
      "history file is /home/jovyan/.jmol/history\n",
      "user properties file is /home/jovyan/.jmol/properties\n",
      "(C) 2015 Jmol Development\n",
      "Jmol Version: 14.29.15  2018-05-23 22:29\n",
      "java.vendor: Java: Oracle Corporation\n",
      "java.version: Java 11.0.1-internal\n",
      "os.name: Linux\n",
      "Access: ALL\n",
      "memory: 14.7/32.4\n",
      "processors available: 1\n",
      "useCommandThread: false\n",
      "User macros dir: /home/jovyan/.jmol/macros\n",
      "       exists: false\n",
      "  isDirectory: false\n",
      "Executing script: load \"1d66_demo.pse\";\n",
      "Executing script from file: process.script\n",
      "\n",
      "FileManager.getAtomSetCollectionFromFile(1d66_demo.pse)\n",
      "^C\n"
     ]
    }
   ],
   "source": [
    "from xvfbwrapper import Xvfb\n",
    "vdisplay = Xvfb()\n",
    "vdisplay.start()\n",
    "!java -ea -jar /srv/conda/envs/notebook/share/jmol/Jmol.jar {x} -g600x500 -s \"{script}\""
   ]
  },
  {
   "cell_type": "code",
   "execution_count": null,
   "metadata": {},
   "outputs": [],
   "source": []
  },
  {
   "cell_type": "code",
   "execution_count": 19,
   "metadata": {},
   "outputs": [
    {
     "name": "stdout",
     "output_type": "stream",
     "text": [
      "(C) 2015 Jmol Development\n",
      "Jmol Version: 14.29.15  2018-05-23 22:29\n",
      "java.vendor: Java: Oracle Corporation\n",
      "java.version: Java 11.0.1-internal\n",
      "os.name: Linux\n",
      "Access: ALL\n",
      "memory: 8.1/32.4\n",
      "processors available: 1\n",
      "useCommandThread: false\n",
      "Executing script: script \"process.spt\";\n",
      "Executing script: ;exitJmol;\n",
      "FileManager opening file /home/jovyan/process.spt\n",
      "\n",
      "FileManager.getAtomSetCollectionFromFile(1d66_demo.pse)\n",
      "FileManager opening file /home/jovyan/1d66_demo.pse\n",
      "The Resolver thinks PyMOL\n"
     ]
    }
   ],
   "source": [
    "!xvfb-run java -ea -jar /srv/conda/envs/notebook/share/jmol/Jmol.jar -g600x500 \"process.spt\" -n -x"
   ]
  },
  {
   "cell_type": "code",
   "execution_count": 17,
   "metadata": {},
   "outputs": [
    {
     "name": "stdout",
     "output_type": "stream",
     "text": [
      "splash_image=jar:file:/srv/conda/envs/notebook/share/jmol/Jmol.jar!/org/openscience/jmol/app/images/Jmol_splash.jpg\n",
      "history file is /home/jovyan/.jmol/history\n",
      "user properties file is /home/jovyan/.jmol/properties\n",
      "(C) 2015 Jmol Development\n",
      "Jmol Version: 14.29.15  2018-05-23 22:29\n",
      "java.vendor: Java: Oracle Corporation\n",
      "java.version: Java 11.0.1-internal\n",
      "os.name: Linux\n",
      "Access: ALL\n",
      "memory: 14.5/32.4\n",
      "processors available: 1\n",
      "useCommandThread: false\n",
      "User macros dir: /home/jovyan/.jmol/macros\n",
      "       exists: false\n",
      "  isDirectory: false\n",
      "Executing script: load \"1d66_demo.pse\";\n",
      "Executing script from file: process.spt\n",
      "^C\n"
     ]
    }
   ],
   "source": [
    "from xvfbwrapper import Xvfb\n",
    "with Xvfb() as xvfb:\n",
    "    !java -ea -jar /srv/conda/envs/notebook/share/jmol/Jmol.jar {x} -g600x500 -s \"process.spt\""
   ]
  },
  {
   "cell_type": "code",
   "execution_count": null,
   "metadata": {},
   "outputs": [],
   "source": []
  },
  {
   "cell_type": "code",
   "execution_count": null,
   "metadata": {},
   "outputs": [],
   "source": []
  },
  {
   "cell_type": "code",
   "execution_count": null,
   "metadata": {},
   "outputs": [],
   "source": []
  },
  {
   "cell_type": "code",
   "execution_count": null,
   "metadata": {},
   "outputs": [],
   "source": []
  },
  {
   "cell_type": "code",
   "execution_count": 11,
   "metadata": {},
   "outputs": [
    {
     "name": "stdout",
     "output_type": "stream",
     "text": [
      "total 14M\n",
      "drwxr-xr-x 1 jovyan jovyan 4.0K Sep 21 00:39  \u001b[0m\u001b[01;34m.\u001b[0m/\n",
      "drwxr-xr-x 1 root   root   4.0K Sep 17 09:30  \u001b[01;34m..\u001b[0m/\n",
      "-rw-r--r-- 1 jovyan jovyan 798K Sep 21 00:14  1d66_demo.pse\n",
      "-rw-r--r-- 1 jovyan jovyan    0 Sep 21 00:38  1d66_demo_rocking-y-60.gif\n",
      "-rw-r--r-- 1 jovyan jovyan  191 Sep 21 00:14  apt.txt\n",
      "-rw-r--r-- 1 jovyan jovyan  220 Sep 17 09:30  .bash_logout\n",
      "-rw-r--r-- 1 jovyan jovyan 3.7K Sep 17 09:30  .bashrc\n",
      "drwxr-xr-x 3 jovyan jovyan 4.0K Sep 21 00:32  \u001b[01;34m.cache\u001b[0m/\n",
      "drwxrwsr-x 1 jovyan jovyan 4.0K Sep 21 00:20  \u001b[01;34m.conda\u001b[0m/\n",
      "drwx------ 1 jovyan jovyan 4.0K Sep 18 08:33  \u001b[01;34m.config\u001b[0m/\n",
      "drwxr-xr-x 1 jovyan jovyan 4.0K Sep 21 00:19  \u001b[01;34m.empty\u001b[0m/\n",
      "-rw-r--r-- 1 jovyan jovyan  182 Sep 21 00:14  environment.yml\n",
      "drwxr-xr-x 1 jovyan jovyan 4.0K Sep 21 00:14  \u001b[01;34m.git\u001b[0m/\n",
      "-rw-r--r-- 1 jovyan jovyan  290 Sep 21 00:14  .gitignore\n",
      "-rw-r--r-- 1 jovyan jovyan 9.1K Sep 21 00:39  index.ipynb\n",
      "drwxr-xr-x 2 jovyan jovyan 4.0K Sep 21 00:38  \u001b[01;34m.ipynb_checkpoints\u001b[0m/\n",
      "drwxr-xr-x 5 jovyan jovyan 4.0K Sep 21 00:23  \u001b[01;34m.ipython\u001b[0m/\n",
      "drwxr-xr-x 3 jovyan jovyan 4.0K Sep 21 00:32  \u001b[01;34m.java\u001b[0m/\n",
      "drwxr-xr-x 2 jovyan jovyan 4.0K Sep 21 00:34  \u001b[01;34m.jmol\u001b[0m/\n",
      "-rw-r--r-- 1 jovyan jovyan  27K Sep 21 00:14  Jmol_LICENSE.txt\n",
      "drwxr-xr-x 3 jovyan jovyan 4.0K Sep 21 00:23  \u001b[01;34m.jupyter\u001b[0m/\n",
      "-rw-r--r-- 1 jovyan jovyan 7.5K Sep 21 00:14  LICENSE\n",
      "drwxr-xr-x 3 jovyan jovyan 4.0K Sep 21 00:23  \u001b[01;34m.local\u001b[0m/\n",
      "-rw-r--r-- 1 jovyan jovyan  13M Sep 21 00:28 'one of these worked for xvfb.ipynb'\n",
      "-rw-r--r-- 1 jovyan jovyan   47 Sep 21 00:30  process.script\n",
      "-rw-r--r-- 1 jovyan jovyan  807 Sep 17 09:30  .profile\n",
      "-rw-r--r-- 1 jovyan jovyan  388 Sep 21 00:14  README.md\n"
     ]
    }
   ],
   "source": [
    "ls -lah"
   ]
  },
  {
   "cell_type": "code",
   "execution_count": 12,
   "metadata": {},
   "outputs": [
    {
     "name": "stdout",
     "output_type": "stream",
     "text": [
      ".\n",
      ".\n",
      ".\n",
      ".\n"
     ]
    },
    {
     "ename": "KeyboardInterrupt",
     "evalue": "",
     "output_type": "error",
     "traceback": [
      "\u001b[0;31m---------------------------------------------------------------------------\u001b[0m",
      "\u001b[0;31mKeyboardInterrupt\u001b[0m                         Traceback (most recent call last)",
      "\u001b[0;32m<ipython-input-12-ece0737a9832>\u001b[0m in \u001b[0;36m<module>\u001b[0;34m\u001b[0m\n\u001b[1;32m      7\u001b[0m \u001b[0;34m\u001b[0m\u001b[0m\n\u001b[1;32m      8\u001b[0m \u001b[0;32mwhile\u001b[0m \u001b[0;32mTrue\u001b[0m\u001b[0;34m:\u001b[0m\u001b[0;34m\u001b[0m\u001b[0;34m\u001b[0m\u001b[0m\n\u001b[0;32m----> 9\u001b[0;31m     \u001b[0mexecuteSomething\u001b[0m\u001b[0;34m(\u001b[0m\u001b[0;34m)\u001b[0m\u001b[0;34m\u001b[0m\u001b[0;34m\u001b[0m\u001b[0m\n\u001b[0m",
      "\u001b[0;32m<ipython-input-12-ece0737a9832>\u001b[0m in \u001b[0;36mexecuteSomething\u001b[0;34m()\u001b[0m\n\u001b[1;32m      4\u001b[0m     \u001b[0;31m#code here\u001b[0m\u001b[0;34m\u001b[0m\u001b[0;34m\u001b[0m\u001b[0;34m\u001b[0m\u001b[0m\n\u001b[1;32m      5\u001b[0m     \u001b[0mprint\u001b[0m \u001b[0;34m(\u001b[0m\u001b[0;34m'.'\u001b[0m\u001b[0;34m)\u001b[0m\u001b[0;34m\u001b[0m\u001b[0;34m\u001b[0m\u001b[0m\n\u001b[0;32m----> 6\u001b[0;31m     \u001b[0mtime\u001b[0m\u001b[0;34m.\u001b[0m\u001b[0msleep\u001b[0m\u001b[0;34m(\u001b[0m\u001b[0;36m480\u001b[0m\u001b[0;34m)\u001b[0m \u001b[0;31m#60 seconds times 8 minutes\u001b[0m\u001b[0;34m\u001b[0m\u001b[0;34m\u001b[0m\u001b[0m\n\u001b[0m\u001b[1;32m      7\u001b[0m \u001b[0;34m\u001b[0m\u001b[0m\n\u001b[1;32m      8\u001b[0m \u001b[0;32mwhile\u001b[0m \u001b[0;32mTrue\u001b[0m\u001b[0;34m:\u001b[0m\u001b[0;34m\u001b[0m\u001b[0;34m\u001b[0m\u001b[0m\n",
      "\u001b[0;31mKeyboardInterrupt\u001b[0m: "
     ]
    }
   ],
   "source": [
    "import time\n",
    "\n",
    "def executeSomething():\n",
    "    #code here\n",
    "    print ('.')\n",
    "    time.sleep(480) #60 seconds times 8 minutes\n",
    "\n",
    "while True:\n",
    "    executeSomething()"
   ]
  },
  {
   "cell_type": "code",
   "execution_count": null,
   "metadata": {},
   "outputs": [],
   "source": []
  }
 ],
 "metadata": {
  "kernelspec": {
   "display_name": "Python 3",
   "language": "python",
   "name": "python3"
  },
  "language_info": {
   "codemirror_mode": {
    "name": "ipython",
    "version": 3
   },
   "file_extension": ".py",
   "mimetype": "text/x-python",
   "name": "python",
   "nbconvert_exporter": "python",
   "pygments_lexer": "ipython3",
   "version": "3.7.3"
  }
 },
 "nbformat": 4,
 "nbformat_minor": 4
}
