{
 "cells": [
  {
   "cell_type": "markdown",
   "metadata": {},
   "source": [
    "# Animate PyMOL session files With Jmol"
   ]
  },
  {
   "cell_type": "markdown",
   "metadata": {},
   "source": [
    "Click on and drag a PyMOL session file (`.pse` file) from your computer into the file browser window to the left of this text.  \n",
    "When the file is correctly dragged into the pane, a dashed,gray outline will appear and you can release your mouse button.\n",
    "\n",
    "**TO TEST: DON'T DRAG ANYTHING IN AND JUST RUN THE NEXT CELL. IT WILL USE THE SESSION FILE ALREADY PRESENT IF YOU DON'T UPLOAD ONE. If you are trying to trouble-shoot and want the demo file included, change its name by right-clicking on the `1d66_demo.pse` demo file in the file browser pane to the left and select `Rename`.**\n",
    "\n",
    "Run the following code cell to process the session file to make the animation.  \n",
    "There are three ways to run a cell if you are not familiar with these notbeooks.\n",
    "\n",
    "- You can run the cell by clicking on it and pressing the `run` button, shaped like a triangle heading towards the right, that is on the utility bar above this notebook.\n",
    "\n",
    "- Click on the cell to run to select it, and then under `Run` menu above, choose `Run Selected Cells`\n",
    "\n",
    "- Click on the cell to run to select it, and type `Shift-Enter`. Which is holding down the shift key wille pressing the enter key.\n",
    "\n",
    "\n",
    "(CURRENTLY THIS IS ONLY GOING TO THE EQUIVALENT OF `rock-y-60deg.spt`.)"
   ]
  },
  {
   "cell_type": "code",
   "execution_count": null,
   "metadata": {},
   "outputs": [],
   "source": [
    "import os\n",
    "import sys\n",
    "import fnmatch\n",
    "session_file_extension = \".pse\"\n",
    "session_files= []\n",
    "for file in os.listdir('.'):\n",
    "    if fnmatch.fnmatch(file, '*'+session_file_extension):\n",
    "        session_files.append(file)\n",
    "# Disregard the demo file if any other session files added\n",
    "demo_file_name = \"1d66_demo.pse\"\n",
    "if len(session_files) > 1 and demo_file_name in session_files:\n",
    "    session_files.remove(demo_file_name)\n",
    "#Report if demo is being used or how many session files being processed\n",
    "if len(session_files) == 1 and session_files[0] == demo_file_name:\n",
    "    sys.stderr.write(\"\\nProcessing demo file '{}'\"\n",
    "    \".\".format(demo_file_name))\n",
    "else:\n",
    "    sys.stderr.write(\"\\nProcessing {} files: {}\"\n",
    "    \".\".format(len(session_files),repr(session_files)))\n",
    "for x in session_files:\n",
    "    # make script to run\n",
    "    script = \"process.script\"\n",
    "    s = f'load \"{x}\";capture \"{x}_rocking-y-60.gif\" rock y 30'\n",
    "    %store s > {script}\n",
    "    !java -ea -Djava.awt.headless=true -jar /srv/conda/envs/notebook/share/jmol/JmolData.jar -g600x500 -s \"{script}\""
   ]
  }
 ],
 "metadata": {
  "kernelspec": {
   "display_name": "Python 3",
   "language": "python",
   "name": "python3"
  },
  "language_info": {
   "codemirror_mode": {
    "name": "ipython",
    "version": 3
   },
   "file_extension": ".py",
   "mimetype": "text/x-python",
   "name": "python",
   "nbconvert_exporter": "python",
   "pygments_lexer": "ipython3",
   "version": "3.7.3"
  }
 },
 "nbformat": 4,
 "nbformat_minor": 4
}
