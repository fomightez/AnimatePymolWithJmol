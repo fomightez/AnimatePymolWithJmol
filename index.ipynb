{
 "cells": [
  {
   "cell_type": "markdown",
   "metadata": {},
   "source": [
    "# Animate PyMOL session files With Jmol\n",
    "\n",
    "### STEP 1 : UPLOAD SESSION FILES."
   ]
  },
  {
   "cell_type": "markdown",
   "metadata": {},
   "source": [
    "Click on and drag a PyMOL session file (`.pse` file) from your computer into the file browser window to the left of this text.  \n",
    "When the file is correctly dragged into the pane, a dashed, gray outline will appear and you can release your mouse button.\n",
    "\n",
    "TO **RUN THE DEMO WITH A PROVIDED SESSION FILE: DON'T DRAG ANYTHING IN AND JUST GO AHEAD AND RUN THE CELLS BELOW. IT WILL USE THE DEMO SESSION FILE ALREADY PRESENT HERE IF YOU DON'T UPLOAD ONE.** (If you are trying to trouble-shoot and want the demo file included in a run along with files you are adding, change the demonstration file name by right-clicking on the `1d66_demo.pse` demo file in the file browser pane to the left and select `Rename`.)\n",
    "\n",
    "Repeat the drag-and-drop steps for as many session files as you'd like processed.\n",
    "\n",
    "Run the following code cells to process the session file(s) to make the animation(s).  \n",
    "There are three ways to run a cell if you are not familiar with the JupyterLab interface.\n",
    "\n",
    "- You can run the cell by clicking on it and pressing the `run` button, shaped like a triangle heading towards the right, that is on the utility bar above this notebook.\n",
    "\n",
    "- Click on the cell to run to select it, and then under `Run` menu above, choose `Run Selected Cells`\n",
    "\n",
    "- Click on the cell to run to select it, and type `Shift-Enter`. Which is holding down the shift key wille pressing the enter key.\n",
    "\n",
    "### STEP 2 : CHOSE SETTINGS."
   ]
  },
  {
   "cell_type": "markdown",
   "metadata": {},
   "source": [
    "There are four options for making animations currently. These are:\n",
    "- 1. `rock-y-60deg.spt` - to rock the molecule back and forth around the y-axis\n",
    "- 2. `rock-x-60deg.spt` - to rock the molecule back and forth around the x-axis\n",
    "- 3. `spin-y.spt`  - to spin the molecule all the way around along the y-axis\n",
    "- 4. `spin-x.spt`  - to spin the molecule all the way around along the x-axis\n",
    "\n",
    "Select your choice in the next cell from those using the numbers corresponding to each in the lst above. For example, `animation_choice = 3` selects to use the `spin-y.spt` script for each session file and produces animations spinning the molecule 360 degress around y-axis."
   ]
  },
  {
   "cell_type": "code",
   "execution_count": null,
   "metadata": {},
   "outputs": [],
   "source": [
    "animation_choice = 1"
   ]
  },
  {
   "cell_type": "markdown",
   "metadata": {},
   "source": [
    "Each uploaded session file will be used to make such an animation. To end up with varied animations for different Pymol session files, you can launch a new session and upload different files with a different choice, or you can re-run the cells with a different choice to allow you to mix and match the results.\n",
    "\n",
    "You can control the height and width dimensions **in pixels** of the resulting animations with the following cell. You'll want to keep the proportions similar to your PyMOL session:"
   ]
  },
  {
   "cell_type": "code",
   "execution_count": null,
   "metadata": {},
   "outputs": [],
   "source": [
    "width = 600\n",
    "height = 500"
   ]
  },
  {
   "cell_type": "markdown",
   "metadata": {},
   "source": [
    "Now with the session files uploaded and those options set, you are ready to generate your animations.\n",
    "\n",
    "### STEP 3. GENERATE ANIMATIONS FOR EACH PROVIDED SESSION FILE.\n",
    "\n",
    "To kick of the making of the animations, run the next cell. This will take some time to run; however, feedback will be provided at several steps. When completed, the animations will be shown as the output and below you'll be given options to collect your data."
   ]
  },
  {
   "cell_type": "code",
   "execution_count": null,
   "metadata": {},
   "outputs": [],
   "source": [
    "%run AnimatePyMOL2Jmol.ipy\n"
   ]
  },
  {
   "cell_type": "markdown",
   "metadata": {},
   "source": [
    "### STEP 4. REVIEW THE RESULTS AND COLLECT FILES.\n",
    "\n",
    "The animations should be shown just above with labels for each below the gif."
   ]
  },
  {
   "cell_type": "markdown",
   "metadata": {},
   "source": [
    "Before you run things again to select a different animation to produce, you'll want to bring any worthy results from the remote session to your own computer. **This session will go stale without any activity in 10 minutes**, and so this is a **very important step if you don't want to run things again**.\n",
    "\n",
    "If you only produced a handful of animations, you can right-click on the name of the animation in the file browser panel on the left side of this browser window and select `Download` from the menu option.\n",
    "\n",
    "Be sure to slide the border of the pane to the right if the names are being cut-off.\n",
    "\n",
    "If you produced a lot of animations, you want to get the archive (gzipped) where all the produced animations for that run where for convenience they have been packed up in a single file. The name was given above for any run that produced more than one file and so you want to find that file that ends in `.gzip` and download it. The notes above will also tell you how to unpack it later if you are not familiar with this types of file."
   ]
  }
 ],
 "metadata": {
  "kernelspec": {
   "display_name": "Python 3",
   "language": "python",
   "name": "python3"
  },
  "language_info": {
   "codemirror_mode": {
    "name": "ipython",
    "version": 3
   },
   "file_extension": ".py",
   "mimetype": "text/x-python",
   "name": "python",
   "nbconvert_exporter": "python",
   "pygments_lexer": "ipython3",
   "version": "3.7.3"
  }
 },
 "nbformat": 4,
 "nbformat_minor": 4
}
