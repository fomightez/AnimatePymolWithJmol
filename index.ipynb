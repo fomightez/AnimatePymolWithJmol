{
 "cells": [
  {
   "cell_type": "markdown",
   "metadata": {},
   "source": [
    "# Animate PyMOL session files With Jmol"
   ]
  },
  {
   "cell_type": "markdown",
   "metadata": {},
   "source": [
    "Click on and drag a PyMOL session file (`.pse` file) from your computer into the file browser window to the left of this text.  \n",
    "When the file is correctly dragged into the pane, a dashed,gray outline will appear and you can release your mouse button.\n",
    "\n",
    "**TO TEST: DON'T DRAG ANYTHING IN AND JUST RUN THE NEXT CELL. IT WILL USE THE SESSION FILE ALREADY PRESENT IF YOU DON'T UPLOAD ONE.**\n",
    "\n",
    "Run the following code cell to process the session file to make the animation.  \n",
    "There are three ways to run a cell if you are not familiar with these notbeooks.\n",
    "\n",
    "- You can run the cell by clicking on it and pressing the `run` button, shaped like a triangle heading towards the right, that is on the utility bar above this notebook.\n",
    "\n",
    "- Click on the cell to run to select it, and then under `Run` menu above, choose `Run Selected Cells`\n",
    "\n",
    "- Click on the cell to run to select it, and type `Shift-Enter`. Which is holding down the shift key wille pressing the enter key."
   ]
  },
  {
   "cell_type": "code",
   "execution_count": null,
   "metadata": {},
   "outputs": [],
   "source": []
  }
 ],
 "metadata": {
  "kernelspec": {
   "display_name": "Python 3",
   "language": "python",
   "name": "python3"
  },
  "language_info": {
   "codemirror_mode": {
    "name": "ipython",
    "version": 3
   },
   "file_extension": ".py",
   "mimetype": "text/x-python",
   "name": "python",
   "nbconvert_exporter": "python",
   "pygments_lexer": "ipython3",
   "version": "3.7.3"
  }
 },
 "nbformat": 4,
 "nbformat_minor": 4
}
